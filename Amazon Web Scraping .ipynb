{
 "cells": [
  {
   "cell_type": "code",
   "execution_count": 1,
   "id": "2ce1ea0f-1fab-4eac-a181-bbabd2686be9",
   "metadata": {},
   "outputs": [],
   "source": [
    "# import libraries \n",
    "\n",
    "from bs4 import BeautifulSoup\n",
    "import requests\n",
    "import time\n",
    "import datetime\n",
    "\n",
    "import smtplib"
   ]
  },
  {
   "cell_type": "code",
   "execution_count": 76,
   "id": "5c6e7f42-c5c0-47f8-9f29-1fe91d7e37da",
   "metadata": {},
   "outputs": [
    {
     "name": "stdout",
     "output_type": "stream",
     "text": [
      "\n",
      "             OnePlus Nord CE 3 Lite 5G (Pastel Lime, 8GB RAM, 128GB Storage)\n",
      "            \n",
      "\n",
      "\n",
      "\n",
      "\n",
      "\n",
      "                 ₹\n",
      "                \n",
      "\n",
      "                 17,990\n",
      "                \n",
      "\n",
      "\n"
     ]
    }
   ],
   "source": [
    "#connect to the website\n",
    "URL = 'https://www.amazon.in/gp/product/B0BY8JZ22K?ref=ppx_pt2_dt_b_prod_image&th=1'\n",
    "headers= {\"User-Agent\": \"Mozilla/5.0 (Windows NT 10.0; Win64; x64) AppleWebKit/537.36 (KHTML, like Gecko) Chrome/127.0.0.0 Safari/537.36\", \"Accept-Encoding\":\"gzip, deflate\", \"Accept\":\"text/html,application/xhtml+xml,application/xml;q=0.9,*/*;q=0.8\", \"DNT\":\"1\",\"Connection\":\"close\", \"Upgrade-Insecure-Requests\":\"1\"}\n",
    "page=requests.get(URL,headers=headers)\n",
    "Soup1=BeautifulSoup(page.content,\"html.parser\")\n",
    "\n",
    "Soup2=BeautifulSoup(Soup1.prettify(),\"html.parser\")\n",
    "title=Soup2.find(id='productTitle').get_text()\n",
    "\n",
    "price = Soup2.find(\"span\", class_=\"a-price aok-align-center reinventPricePriceToPayMargin priceToPay\").get_text()\n",
    "print(title)\n",
    "print(price)\n"
   ]
  },
  {
   "cell_type": "code",
   "execution_count": 78,
   "id": "c4993cd8-4568-4308-b937-993af1187607",
   "metadata": {},
   "outputs": [
    {
     "name": "stdout",
     "output_type": "stream",
     "text": [
      "OnePlus Nord CE 3 Lite 5G (Pastel Lime, 8GB RAM, 128GB Storage)\n",
      "17,990\n"
     ]
    }
   ],
   "source": [
    "price=price.strip()[37:]\n",
    "title=title.strip()\n",
    "print(title)\n",
    "print(price)"
   ]
  },
  {
   "cell_type": "code",
   "execution_count": 82,
   "id": "189edeea-9356-4ea2-b061-c813d3e19f3f",
   "metadata": {},
   "outputs": [
    {
     "name": "stdout",
     "output_type": "stream",
     "text": [
      "2024-08-20\n"
     ]
    }
   ],
   "source": [
    "import datetime\n",
    "today=datetime.date.today()\n",
    "print(today)"
   ]
  },
  {
   "cell_type": "code",
   "execution_count": 96,
   "id": "c1b81ed5-db28-472b-9472-1a8b40f3f50c",
   "metadata": {},
   "outputs": [],
   "source": [
    "import csv\n",
    "\n",
    "header=['Title','Price','Date']\n",
    "data=[title,price,today]\n",
    "with open('AmazonWebScraperDataset.csv','w',newline='',encoding='UTF8') as f:\n",
    "    writer=csv.writer(f)\n",
    "    writer.writerow(header)\n",
    "    writer.writerow(data)"
   ]
  },
  {
   "cell_type": "code",
   "execution_count": 102,
   "id": "ad37e2e4-2219-4c96-a4aa-f75ac6bffbee",
   "metadata": {},
   "outputs": [
    {
     "name": "stdout",
     "output_type": "stream",
     "text": [
      "                                               Title   Price        Date\n",
      "0  OnePlus Nord CE 3 Lite 5G (Pastel Lime, 8GB RA...  17,990  2024-08-20\n",
      "1  OnePlus Nord CE 3 Lite 5G (Pastel Lime, 8GB RA...  17,990  2024-08-20\n"
     ]
    }
   ],
   "source": [
    "import pandas as pd\n",
    "df=pd.read_csv(r'C:\\Users\\yps12\\AmazonWebScraperDataset.csv')\n",
    "print(df)"
   ]
  },
  {
   "cell_type": "code",
   "execution_count": 100,
   "id": "1601e2fd-de67-44c1-965c-3bb4c53dd89e",
   "metadata": {},
   "outputs": [],
   "source": [
    "#now we are appending data to the csv\n",
    "with open('AmazonWebScraperDataset.csv','a+',newline='',encoding='UTF8') as f:\n",
    "    writer=csv.writer(f)\n",
    "    writer.writerow(data)"
   ]
  },
  {
   "cell_type": "code",
   "execution_count": null,
   "id": "fa985d55-cc0e-44c4-9188-bee7034956d6",
   "metadata": {},
   "outputs": [],
   "source": [
    "def check_price():\n",
    "    URL = 'https://www.amazon.in/gp/product/B0BY8JZ22K?ref=ppx_pt2_dt_b_prod_image&th=1'\n",
    "    headers= {\"User-Agent\": \"Mozilla/5.0 (Windows NT 10.0; Win64; x64) AppleWebKit/537.36 (KHTML, like Gecko) Chrome/127.0.0.0 Safari/537.36\", \"Accept-Encoding\":\"gzip, deflate\", \"Accept\":\"text/html,application/xhtml+xml,application/xml;q=0.9,*/*;q=0.8\", \"DNT\":\"1\",\"Connection\":\"close\", \"Upgrade-Insecure-Requests\":\"1\"}\n",
    "    page=requests.get(URL,headers=headers)\n",
    "    Soup1=BeautifulSoup(page.content,\"html.parser\")\n",
    "\n",
    "    Soup2=BeautifulSoup(Soup1.prettify(),\"html.parser\")\n",
    "    title=Soup2.find(id='productTitle').get_text()\n",
    "\n",
    "    price = Soup2.find(\"span\", class_=\"a-price aok-align-center reinventPricePriceToPayMargin priceToPay\").get_text()\n",
    "    price=price.strip()[37:]\n",
    "    title=title.strip()\n",
    "    import datetime\n",
    "    today=datetime.date.today()\n",
    "    import csv\n",
    "\n",
    "    header=['Title','Price','Date']\n",
    "    data=[title,price,today]\n",
    "    with open('AmazonWebScraperDataset.csv','a+',newline='',encoding='UTF8') as f:\n",
    "        writer=csv.writer(f)\n",
    "        writer.writerow(data)\n",
    "    if(price<18,000)\n",
    "        send_mail()"
   ]
  },
  {
   "cell_type": "code",
   "execution_count": null,
   "id": "f9951a82-be81-4300-b112-84812488a619",
   "metadata": {},
   "outputs": [],
   "source": [
    "while(True):\n",
    "    check_price()\n",
    "    time.sleep(86400)"
   ]
  },
  {
   "cell_type": "code",
   "execution_count": 110,
   "id": "7c3c35ab-3daf-4921-a0d7-0200c2bc3e0e",
   "metadata": {},
   "outputs": [
    {
     "name": "stdout",
     "output_type": "stream",
     "text": [
      "                                               Title   Price        Date\n",
      "0  OnePlus Nord CE 3 Lite 5G (Pastel Lime, 8GB RA...  17,990  2024-08-20\n",
      "1  OnePlus Nord CE 3 Lite 5G (Pastel Lime, 8GB RA...  17,990  2024-08-20\n",
      "2  OnePlus Nord CE 3 Lite 5G (Pastel Lime, 8GB RA...  17,990  2024-08-20\n"
     ]
    }
   ],
   "source": [
    "import pandas as pd\n",
    "df=pd.read_csv(r'C:\\Users\\yps12\\AmazonWebScraperDataset.csv')\n",
    "print(df)"
   ]
  },
  {
   "cell_type": "code",
   "execution_count": null,
   "id": "2b88d037-3474-4f35-91d2-5e0bd5dda2e3",
   "metadata": {},
   "outputs": [],
   "source": [
    "# to send you a notification whenever price drops below certain point you can use it\n",
    "def send_mail():\n",
    "    server = smtplib.SMTP_SSL('smtp.gmail.com',465)\n",
    "    server.ehlo()\n",
    "    #server.starttls()\n",
    "    server.ehlo()\n",
    "    server.login('yps123vasu@gmail.com','xxxxxxxxxxxxxx')\n",
    "    \n",
    "    subject = \"The Smartphone you want is below 18000! Now is your chance to buy!\"\n",
    "    body = \"Yashesh, This is the moment we have been waiting for. Now is your chance to pick up the phone of your dreams. Don't mess it up! Link here: https://www.amazon.in/gp/product/B0BY8JZ22K?ref=ppx_pt2_dt_b_prod_image&th=1\"\n",
    "   \n",
    "    msg = f\"Subject: {subject}\\n\\n{body}\"\n",
    "    \n",
    "    server.sendmail(\n",
    "        'yps123vasu@gmail.com',\n",
    "        msg\n",
    "     \n",
    "    )"
   ]
  },
  {
   "cell_type": "code",
   "execution_count": null,
   "id": "edee0635-375b-4f2d-a680-b53ce3cbd85c",
   "metadata": {},
   "outputs": [],
   "source": []
  }
 ],
 "metadata": {
  "kernelspec": {
   "display_name": "Python 3 (ipykernel)",
   "language": "python",
   "name": "python3"
  },
  "language_info": {
   "codemirror_mode": {
    "name": "ipython",
    "version": 3
   },
   "file_extension": ".py",
   "mimetype": "text/x-python",
   "name": "python",
   "nbconvert_exporter": "python",
   "pygments_lexer": "ipython3",
   "version": "3.12.4"
  }
 },
 "nbformat": 4,
 "nbformat_minor": 5
}
